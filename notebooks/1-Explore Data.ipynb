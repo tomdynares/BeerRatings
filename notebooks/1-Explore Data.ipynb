{
 "cells": [
  {
   "cell_type": "markdown",
   "metadata": {},
   "source": [
    "## Step 1 - Explore the Data\n",
    "\n",
    "The aim if this notebook is to:\n",
    "* **Read in the intial dataset in its raw form**\n",
    "* **Begin to understand it's layout and characteristics**\n",
    "* **Determine opportunities for learning from the patterns it contains**\n",
    "* **Determine opportunities/needs for data cleansing, etc**\n",
    "\n",
    "## The Data/Preliminary Questions\n",
    "\n",
    "The dataset that will be used for this project is titled `beer_reviews.csv` and originates from https://data.world/socialmediadata/beeradvocate\n",
    "\n",
    "This dataset consists of `1,586,614` observations and has `13` columns as follows:\n",
    "* `brewery_id`            int64\n",
    "* `brewery_name`          object\n",
    "* `review_time`           int64\n",
    "* `review_overall`        float64\n",
    "* `review_aroma`          float64\n",
    "* `review_appearance`     float64\n",
    "* `review_profilename`    object\n",
    "* `beer_style`            object\n",
    "* `review_palate`         float64\n",
    "* `review_taste`          float64\n",
    "* `beer_name`             object\n",
    "* `beer_abv`              float64\n",
    "* `beer_beerid`           int64\n",
    "\n",
    "So of these 13 columns, the ones that may be of use to further analysis are, in other words, the features of our data are as follows:\n",
    "* `review_overall`        float64\n",
    "* `review_aroma`          float64\n",
    "* `review_appearance`     float64\n",
    "* `review_palate`         float64\n",
    "* `review_taste`          float64\n",
    "\n",
    "Of course, these features may be of further interest in gaining more knowledge of the domains within which they reside:\n",
    "* `brewery_id`             int64\n",
    "* `brewery_name`           object\n",
    "\n",
    "* `beer_beerid`           int64\n",
    "* `beer_name`              object\n",
    "\n",
    "* `beer_style`             object\n",
    "\n",
    "Finally, we might want to consider the shape (potential legitimacy of the actual review based upon who reviewed (or):\n",
    "* `review_profilename`    object\n",
    "\n",
    "It may of particular interest to determine how many reviews a given individual provided as related to reviews other reviewers may have provided.  This could further studied across `beer_style` e.g.,... if a certain reviewer did a fair amount of reviews... but the majority (88%+) were on IPA's... how much value does their review against a Wheat beer really hold.  Likewise... if 90% of their reviews reflect high ratings and they did a good number of reviews, how much value do these high ratings really mean to the actual beers being reviewed\n",
    "\n",
    "\n"
   ]
  },
  {
   "cell_type": "code",
   "execution_count": 1,
   "metadata": {
    "collapsed": true
   },
   "outputs": [],
   "source": [
    "from __future__ import print_function"
   ]
  },
  {
   "cell_type": "code",
   "execution_count": 3,
   "metadata": {},
   "outputs": [
    {
     "data": {
      "text/html": [
       "<div>\n",
       "<style>\n",
       "    .dataframe thead tr:only-child th {\n",
       "        text-align: right;\n",
       "    }\n",
       "\n",
       "    .dataframe thead th {\n",
       "        text-align: left;\n",
       "    }\n",
       "\n",
       "    .dataframe tbody tr th {\n",
       "        vertical-align: top;\n",
       "    }\n",
       "</style>\n",
       "<table border=\"1\" class=\"dataframe\">\n",
       "  <thead>\n",
       "    <tr style=\"text-align: right;\">\n",
       "      <th></th>\n",
       "      <th>brewery_id</th>\n",
       "      <th>brewery_name</th>\n",
       "      <th>review_time</th>\n",
       "      <th>review_overall</th>\n",
       "      <th>review_aroma</th>\n",
       "      <th>review_appearance</th>\n",
       "      <th>review_profilename</th>\n",
       "      <th>beer_style</th>\n",
       "      <th>review_palate</th>\n",
       "      <th>review_taste</th>\n",
       "      <th>beer_name</th>\n",
       "      <th>beer_abv</th>\n",
       "      <th>beer_beerid</th>\n",
       "    </tr>\n",
       "  </thead>\n",
       "  <tbody>\n",
       "    <tr>\n",
       "      <th>0</th>\n",
       "      <td>10325</td>\n",
       "      <td>Vecchio Birraio</td>\n",
       "      <td>1234817823</td>\n",
       "      <td>1.5</td>\n",
       "      <td>2.0</td>\n",
       "      <td>2.5</td>\n",
       "      <td>stcules</td>\n",
       "      <td>Hefeweizen</td>\n",
       "      <td>1.5</td>\n",
       "      <td>1.5</td>\n",
       "      <td>Sausa Weizen</td>\n",
       "      <td>5.0</td>\n",
       "      <td>47986</td>\n",
       "    </tr>\n",
       "    <tr>\n",
       "      <th>1</th>\n",
       "      <td>10325</td>\n",
       "      <td>Vecchio Birraio</td>\n",
       "      <td>1235915097</td>\n",
       "      <td>3.0</td>\n",
       "      <td>2.5</td>\n",
       "      <td>3.0</td>\n",
       "      <td>stcules</td>\n",
       "      <td>English Strong Ale</td>\n",
       "      <td>3.0</td>\n",
       "      <td>3.0</td>\n",
       "      <td>Red Moon</td>\n",
       "      <td>6.2</td>\n",
       "      <td>48213</td>\n",
       "    </tr>\n",
       "    <tr>\n",
       "      <th>2</th>\n",
       "      <td>10325</td>\n",
       "      <td>Vecchio Birraio</td>\n",
       "      <td>1235916604</td>\n",
       "      <td>3.0</td>\n",
       "      <td>2.5</td>\n",
       "      <td>3.0</td>\n",
       "      <td>stcules</td>\n",
       "      <td>Foreign / Export Stout</td>\n",
       "      <td>3.0</td>\n",
       "      <td>3.0</td>\n",
       "      <td>Black Horse Black Beer</td>\n",
       "      <td>6.5</td>\n",
       "      <td>48215</td>\n",
       "    </tr>\n",
       "    <tr>\n",
       "      <th>3</th>\n",
       "      <td>10325</td>\n",
       "      <td>Vecchio Birraio</td>\n",
       "      <td>1234725145</td>\n",
       "      <td>3.0</td>\n",
       "      <td>3.0</td>\n",
       "      <td>3.5</td>\n",
       "      <td>stcules</td>\n",
       "      <td>German Pilsener</td>\n",
       "      <td>2.5</td>\n",
       "      <td>3.0</td>\n",
       "      <td>Sausa Pils</td>\n",
       "      <td>5.0</td>\n",
       "      <td>47969</td>\n",
       "    </tr>\n",
       "    <tr>\n",
       "      <th>4</th>\n",
       "      <td>1075</td>\n",
       "      <td>Caldera Brewing Company</td>\n",
       "      <td>1293735206</td>\n",
       "      <td>4.0</td>\n",
       "      <td>4.5</td>\n",
       "      <td>4.0</td>\n",
       "      <td>johnmichaelsen</td>\n",
       "      <td>American Double / Imperial IPA</td>\n",
       "      <td>4.0</td>\n",
       "      <td>4.5</td>\n",
       "      <td>Cauldron DIPA</td>\n",
       "      <td>7.7</td>\n",
       "      <td>64883</td>\n",
       "    </tr>\n",
       "  </tbody>\n",
       "</table>\n",
       "</div>"
      ],
      "text/plain": [
       "   brewery_id             brewery_name  review_time  review_overall  \\\n",
       "0       10325          Vecchio Birraio   1234817823             1.5   \n",
       "1       10325          Vecchio Birraio   1235915097             3.0   \n",
       "2       10325          Vecchio Birraio   1235916604             3.0   \n",
       "3       10325          Vecchio Birraio   1234725145             3.0   \n",
       "4        1075  Caldera Brewing Company   1293735206             4.0   \n",
       "\n",
       "   review_aroma  review_appearance review_profilename  \\\n",
       "0           2.0                2.5            stcules   \n",
       "1           2.5                3.0            stcules   \n",
       "2           2.5                3.0            stcules   \n",
       "3           3.0                3.5            stcules   \n",
       "4           4.5                4.0     johnmichaelsen   \n",
       "\n",
       "                       beer_style  review_palate  review_taste  \\\n",
       "0                      Hefeweizen            1.5           1.5   \n",
       "1              English Strong Ale            3.0           3.0   \n",
       "2          Foreign / Export Stout            3.0           3.0   \n",
       "3                 German Pilsener            2.5           3.0   \n",
       "4  American Double / Imperial IPA            4.0           4.5   \n",
       "\n",
       "                beer_name  beer_abv  beer_beerid  \n",
       "0            Sausa Weizen       5.0        47986  \n",
       "1                Red Moon       6.2        48213  \n",
       "2  Black Horse Black Beer       6.5        48215  \n",
       "3              Sausa Pils       5.0        47969  \n",
       "4           Cauldron DIPA       7.7        64883  "
      ]
     },
     "execution_count": 3,
     "metadata": {},
     "output_type": "execute_result"
    }
   ],
   "source": [
    "# setup the essentials\n",
    "import pandas as pd\n",
    "import numpy as np\n",
    "\n",
    "# load the data and take a quick peek\n",
    "beer_all_data = pd.read_csv(\"../data/beer_reviews.csv\")\n",
    "beer_all_data.head()"
   ]
  },
  {
   "cell_type": "code",
   "execution_count": 4,
   "metadata": {},
   "outputs": [
    {
     "name": "stdout",
     "output_type": "stream",
     "text": [
      "shape:\t (1586614, 13)\n",
      "\n",
      "\n",
      "dtpes:\t brewery_id              int64\n",
      "brewery_name           object\n",
      "review_time             int64\n",
      "review_overall        float64\n",
      "review_aroma          float64\n",
      "review_appearance     float64\n",
      "review_profilename     object\n",
      "beer_style             object\n",
      "review_palate         float64\n",
      "review_taste          float64\n",
      "beer_name              object\n",
      "beer_abv              float64\n",
      "beer_beerid             int64\n",
      "dtype: object\n"
     ]
    }
   ],
   "source": [
    "#report the shape and data types found witin\n",
    "print('shape:\\t', beer_all_data.shape)\n",
    "print('\\n')\n",
    "print('dtpes:\\t',beer_all_data.dtypes)"
   ]
  },
  {
   "cell_type": "markdown",
   "metadata": {},
   "source": [
    "**Well that was interesting - kinda :-)**\n",
    "\n",
    "Next thing I would be curious about is the actual distribution of data.. let's explore the distribution of styles of beer.  We'll do this by getting a high level summary.  This will include a mean and a standard deviation then to that we will crunch a Z-Score and use that metric to graph our results for easier visualization."
   ]
  },
  {
   "cell_type": "code",
   "execution_count": 6,
   "metadata": {},
   "outputs": [],
   "source": [
    "# store off details by beer style\n",
    "beer_style_details = beer_all_data.groupby('beer_style').agg({\n",
    "       'brewery_name': pd.Series.nunique,\n",
    "       'review_profilename': pd.Series.nunique,\n",
    "       'beer_name': pd.Series.nunique\n",
    "    }).rename(columns={\n",
    "                        'brewery_name' : 'number_of_distinct_brewerys',\n",
    "                        'review_profilename' : 'number_of_distinct_reviewers',\n",
    "                        'beer_name' : 'number_of_distinct_beer'                          \n",
    "                      })\n",
    "\n",
    "# store off summary by beer styles\n",
    "beer_style_sum = beer_style_details.agg({\n",
    "        'number_of_distinct_brewerys' : ['mean', 'std'],\n",
    "        'number_of_distinct_reviewers' : ['mean', 'std'],\n",
    "        'number_of_distinct_beer' : ['mean', 'std']    \n",
    "    })\n",
    "\n",
    "# store off high level summary across all beer styles\n",
    "beer_style_tots = beer_all_data.agg({\n",
    "       'brewery_name': pd.Series.nunique,\n",
    "       'review_profilename': pd.Series.nunique,\n",
    "       'beer_name': pd.Series.nunique\n",
    "    }).rename(columns={\n",
    "                        'brewery_name' : 'number_of_distinct_brewerys',\n",
    "                        'review_profilename' : 'number_of_distinct_reviewers',\n",
    "                        'beer_name' : 'number_of_distinct_beer'                          \n",
    "                      })\n",
    "\n",
    "# some basic conversions for later\n",
    "#beer_style_sum = pd.DataFrame(beer_style_sum).reset_index()"
   ]
  },
  {
   "cell_type": "code",
   "execution_count": 7,
   "metadata": {},
   "outputs": [
    {
     "data": {
      "text/html": [
       "<div>\n",
       "<style>\n",
       "    .dataframe thead tr:only-child th {\n",
       "        text-align: right;\n",
       "    }\n",
       "\n",
       "    .dataframe thead th {\n",
       "        text-align: left;\n",
       "    }\n",
       "\n",
       "    .dataframe tbody tr th {\n",
       "        vertical-align: top;\n",
       "    }\n",
       "</style>\n",
       "<table border=\"1\" class=\"dataframe\">\n",
       "  <thead>\n",
       "    <tr style=\"text-align: right;\">\n",
       "      <th></th>\n",
       "      <th>number_of_distinct_reviewers</th>\n",
       "      <th>number_of_distinct_brewerys</th>\n",
       "      <th>number_of_distinct_beer</th>\n",
       "      <th>total_brewerys</th>\n",
       "      <th>pct_brewerys</th>\n",
       "      <th>mean_distinct_brewerys</th>\n",
       "      <th>sd_distinct_brewerys</th>\n",
       "      <th>Z_distinct_brewerys</th>\n",
       "      <th>total_reviewers</th>\n",
       "      <th>pct_reviewers</th>\n",
       "      <th>mean_distinct_reviewers</th>\n",
       "      <th>sd_distinct_reviewers</th>\n",
       "      <th>Z_distinct_reviewers</th>\n",
       "      <th>total_beer</th>\n",
       "      <th>pct_Beer</th>\n",
       "      <th>mean_distinct_beer</th>\n",
       "      <th>sd_distinct_beer</th>\n",
       "      <th>Z_distinct_beer</th>\n",
       "    </tr>\n",
       "    <tr>\n",
       "      <th>beer_style</th>\n",
       "      <th></th>\n",
       "      <th></th>\n",
       "      <th></th>\n",
       "      <th></th>\n",
       "      <th></th>\n",
       "      <th></th>\n",
       "      <th></th>\n",
       "      <th></th>\n",
       "      <th></th>\n",
       "      <th></th>\n",
       "      <th></th>\n",
       "      <th></th>\n",
       "      <th></th>\n",
       "      <th></th>\n",
       "      <th></th>\n",
       "      <th></th>\n",
       "      <th></th>\n",
       "      <th></th>\n",
       "    </tr>\n",
       "  </thead>\n",
       "  <tbody>\n",
       "    <tr>\n",
       "      <th>Altbier</th>\n",
       "      <td>3035</td>\n",
       "      <td>425</td>\n",
       "      <td>465</td>\n",
       "      <td>5742</td>\n",
       "      <td>0.074016</td>\n",
       "      <td>411.259615</td>\n",
       "      <td>346.078418</td>\n",
       "      <td>0.039703</td>\n",
       "      <td>33387</td>\n",
       "      <td>0.090904</td>\n",
       "      <td>3870.201923</td>\n",
       "      <td>2442.428826</td>\n",
       "      <td>-0.341955</td>\n",
       "      <td>56857</td>\n",
       "      <td>0.008178</td>\n",
       "      <td>566.269231</td>\n",
       "      <td>558.586222</td>\n",
       "      <td>-0.181296</td>\n",
       "    </tr>\n",
       "    <tr>\n",
       "      <th>American Adjunct Lager</th>\n",
       "      <td>6414</td>\n",
       "      <td>531</td>\n",
       "      <td>1112</td>\n",
       "      <td>5742</td>\n",
       "      <td>0.092476</td>\n",
       "      <td>411.259615</td>\n",
       "      <td>346.078418</td>\n",
       "      <td>0.345992</td>\n",
       "      <td>33387</td>\n",
       "      <td>0.192111</td>\n",
       "      <td>3870.201923</td>\n",
       "      <td>2442.428826</td>\n",
       "      <td>1.041503</td>\n",
       "      <td>56857</td>\n",
       "      <td>0.019558</td>\n",
       "      <td>566.269231</td>\n",
       "      <td>558.586222</td>\n",
       "      <td>0.976986</td>\n",
       "    </tr>\n",
       "    <tr>\n",
       "      <th>American Amber / Red Ale</th>\n",
       "      <td>8337</td>\n",
       "      <td>1478</td>\n",
       "      <td>2231</td>\n",
       "      <td>5742</td>\n",
       "      <td>0.257402</td>\n",
       "      <td>411.259615</td>\n",
       "      <td>346.078418</td>\n",
       "      <td>3.082366</td>\n",
       "      <td>33387</td>\n",
       "      <td>0.249708</td>\n",
       "      <td>3870.201923</td>\n",
       "      <td>2442.428826</td>\n",
       "      <td>1.828834</td>\n",
       "      <td>56857</td>\n",
       "      <td>0.039239</td>\n",
       "      <td>566.269231</td>\n",
       "      <td>558.586222</td>\n",
       "      <td>2.980257</td>\n",
       "    </tr>\n",
       "    <tr>\n",
       "      <th>American Amber / Red Lager</th>\n",
       "      <td>3924</td>\n",
       "      <td>289</td>\n",
       "      <td>341</td>\n",
       "      <td>5742</td>\n",
       "      <td>0.050331</td>\n",
       "      <td>411.259615</td>\n",
       "      <td>346.078418</td>\n",
       "      <td>-0.353271</td>\n",
       "      <td>33387</td>\n",
       "      <td>0.117531</td>\n",
       "      <td>3870.201923</td>\n",
       "      <td>2442.428826</td>\n",
       "      <td>0.022026</td>\n",
       "      <td>56857</td>\n",
       "      <td>0.005998</td>\n",
       "      <td>566.269231</td>\n",
       "      <td>558.586222</td>\n",
       "      <td>-0.403285</td>\n",
       "    </tr>\n",
       "    <tr>\n",
       "      <th>American Barleywine</th>\n",
       "      <td>5560</td>\n",
       "      <td>492</td>\n",
       "      <td>784</td>\n",
       "      <td>5742</td>\n",
       "      <td>0.085684</td>\n",
       "      <td>411.259615</td>\n",
       "      <td>346.078418</td>\n",
       "      <td>0.233301</td>\n",
       "      <td>33387</td>\n",
       "      <td>0.166532</td>\n",
       "      <td>3870.201923</td>\n",
       "      <td>2442.428826</td>\n",
       "      <td>0.691852</td>\n",
       "      <td>56857</td>\n",
       "      <td>0.013789</td>\n",
       "      <td>566.269231</td>\n",
       "      <td>558.586222</td>\n",
       "      <td>0.389789</td>\n",
       "    </tr>\n",
       "  </tbody>\n",
       "</table>\n",
       "</div>"
      ],
      "text/plain": [
       "                            number_of_distinct_reviewers  \\\n",
       "beer_style                                                 \n",
       "Altbier                                             3035   \n",
       "American Adjunct Lager                              6414   \n",
       "American Amber / Red Ale                            8337   \n",
       "American Amber / Red Lager                          3924   \n",
       "American Barleywine                                 5560   \n",
       "\n",
       "                            number_of_distinct_brewerys  \\\n",
       "beer_style                                                \n",
       "Altbier                                             425   \n",
       "American Adjunct Lager                              531   \n",
       "American Amber / Red Ale                           1478   \n",
       "American Amber / Red Lager                          289   \n",
       "American Barleywine                                 492   \n",
       "\n",
       "                            number_of_distinct_beer  total_brewerys  \\\n",
       "beer_style                                                            \n",
       "Altbier                                         465            5742   \n",
       "American Adjunct Lager                         1112            5742   \n",
       "American Amber / Red Ale                       2231            5742   \n",
       "American Amber / Red Lager                      341            5742   \n",
       "American Barleywine                             784            5742   \n",
       "\n",
       "                            pct_brewerys  mean_distinct_brewerys  \\\n",
       "beer_style                                                         \n",
       "Altbier                         0.074016              411.259615   \n",
       "American Adjunct Lager          0.092476              411.259615   \n",
       "American Amber / Red Ale        0.257402              411.259615   \n",
       "American Amber / Red Lager      0.050331              411.259615   \n",
       "American Barleywine             0.085684              411.259615   \n",
       "\n",
       "                            sd_distinct_brewerys  Z_distinct_brewerys  \\\n",
       "beer_style                                                              \n",
       "Altbier                               346.078418             0.039703   \n",
       "American Adjunct Lager                346.078418             0.345992   \n",
       "American Amber / Red Ale              346.078418             3.082366   \n",
       "American Amber / Red Lager            346.078418            -0.353271   \n",
       "American Barleywine                   346.078418             0.233301   \n",
       "\n",
       "                            total_reviewers  pct_reviewers  \\\n",
       "beer_style                                                   \n",
       "Altbier                               33387       0.090904   \n",
       "American Adjunct Lager                33387       0.192111   \n",
       "American Amber / Red Ale              33387       0.249708   \n",
       "American Amber / Red Lager            33387       0.117531   \n",
       "American Barleywine                   33387       0.166532   \n",
       "\n",
       "                            mean_distinct_reviewers  sd_distinct_reviewers  \\\n",
       "beer_style                                                                   \n",
       "Altbier                                 3870.201923            2442.428826   \n",
       "American Adjunct Lager                  3870.201923            2442.428826   \n",
       "American Amber / Red Ale                3870.201923            2442.428826   \n",
       "American Amber / Red Lager              3870.201923            2442.428826   \n",
       "American Barleywine                     3870.201923            2442.428826   \n",
       "\n",
       "                            Z_distinct_reviewers  total_beer  pct_Beer  \\\n",
       "beer_style                                                               \n",
       "Altbier                                -0.341955       56857  0.008178   \n",
       "American Adjunct Lager                  1.041503       56857  0.019558   \n",
       "American Amber / Red Ale                1.828834       56857  0.039239   \n",
       "American Amber / Red Lager              0.022026       56857  0.005998   \n",
       "American Barleywine                     0.691852       56857  0.013789   \n",
       "\n",
       "                            mean_distinct_beer  sd_distinct_beer  \\\n",
       "beer_style                                                         \n",
       "Altbier                             566.269231        558.586222   \n",
       "American Adjunct Lager              566.269231        558.586222   \n",
       "American Amber / Red Ale            566.269231        558.586222   \n",
       "American Amber / Red Lager          566.269231        558.586222   \n",
       "American Barleywine                 566.269231        558.586222   \n",
       "\n",
       "                            Z_distinct_beer  \n",
       "beer_style                                   \n",
       "Altbier                           -0.181296  \n",
       "American Adjunct Lager             0.976986  \n",
       "American Amber / Red Ale           2.980257  \n",
       "American Amber / Red Lager        -0.403285  \n",
       "American Barleywine                0.389789  "
      ]
     },
     "execution_count": 7,
     "metadata": {},
     "output_type": "execute_result"
    }
   ],
   "source": [
    "#-----------------------------------------------------------\n",
    "# some updates to the detail table from the sum and tots\n",
    "#-----------------------------------------------------------\n",
    "\n",
    "#--------- Brewery\n",
    "beer_style_details['total_brewerys'] = beer_style_tots['brewery_name']\n",
    "beer_style_details['pct_brewerys'] = beer_style_details['number_of_distinct_brewerys'] / beer_style_details['total_brewerys']\n",
    "beer_style_details['mean_distinct_brewerys'] = beer_style_sum.loc['mean','number_of_distinct_brewerys']\n",
    "beer_style_details['sd_distinct_brewerys'] = beer_style_sum.loc['std','number_of_distinct_brewerys']\n",
    "\n",
    "beer_style_details['Z_distinct_brewerys'] = (\n",
    "                                                (beer_style_details['number_of_distinct_brewerys'] - beer_style_details['mean_distinct_brewerys'])\n",
    "                                                    / beer_style_details['sd_distinct_brewerys']\n",
    "                                                )\n",
    "\n",
    "#--------- Reviewers\n",
    "beer_style_details['total_reviewers'] = beer_style_tots['review_profilename']\n",
    "beer_style_details['pct_reviewers'] = beer_style_details['number_of_distinct_reviewers'] / beer_style_details['total_reviewers']\n",
    "beer_style_details['mean_distinct_reviewers'] = beer_style_sum.loc['mean','number_of_distinct_reviewers']\n",
    "beer_style_details['sd_distinct_reviewers'] = beer_style_sum.loc['std','number_of_distinct_reviewers']\n",
    "\n",
    "beer_style_details['Z_distinct_reviewers'] = (\n",
    "                                                (beer_style_details['number_of_distinct_reviewers'] - beer_style_details['mean_distinct_reviewers'])\n",
    "                                                    / beer_style_details['sd_distinct_reviewers']\n",
    "                                                )\n",
    "\n",
    "#--------- Beer\n",
    "beer_style_details['total_beer'] = beer_style_tots['beer_name']\n",
    "beer_style_details['pct_Beer'] = beer_style_details['number_of_distinct_beer'] / beer_style_details['total_beer']\n",
    "beer_style_details['mean_distinct_beer'] = beer_style_sum.loc['mean','number_of_distinct_beer']\n",
    "beer_style_details['sd_distinct_beer'] = beer_style_sum.loc['std','number_of_distinct_beer']\n",
    "\n",
    "beer_style_details['Z_distinct_beer'] = (\n",
    "                                                (beer_style_details['number_of_distinct_beer'] - beer_style_details['mean_distinct_beer'])\n",
    "                                                    / beer_style_details['sd_distinct_beer']\n",
    "                                                )\n",
    "\n",
    "beer_style_details.head()\n"
   ]
  },
  {
   "cell_type": "code",
   "execution_count": 8,
   "metadata": {
    "collapsed": true
   },
   "outputs": [],
   "source": [
    "# Save this off to csv for later consumption\n",
    "beer_style_details.to_csv(\"../data/beer_style_summary.csv\")"
   ]
  },
  {
   "cell_type": "markdown",
   "metadata": {},
   "source": [
    "## Now for some graphs"
   ]
  },
  {
   "cell_type": "code",
   "execution_count": 10,
   "metadata": {
    "collapsed": true
   },
   "outputs": [],
   "source": [
    "# import the goodies needed\n",
    "%matplotlib inline\n",
    "import seaborn as sns"
   ]
  },
  {
   "cell_type": "code",
   "execution_count": 12,
   "metadata": {},
   "outputs": [
    {
     "name": "stdout",
     "output_type": "stream",
     "text": [
      "Brewery Distribution\n",
      "\n"
     ]
    },
    {
     "data": {
      "text/plain": [
       "<matplotlib.axes._subplots.AxesSubplot at 0x9ae6f98>"
      ]
     },
     "execution_count": 12,
     "metadata": {},
     "output_type": "execute_result"
    },
    {
     "data": {
      "image/png": "[encoded data removed]",
      "text/plain": [
       "<matplotlib.figure.Figure at 0x136df278>"
      ]
     },
     "metadata": {},
     "output_type": "display_data"
    }
   ],
   "source": [
    "# Brewery Distribution across styles of beer\n",
    "print('Brewery Distribution\\n')\n",
    "sns.distplot(beer_style_details['Z_distinct_brewerys'])"
   ]
  },
  {
   "cell_type": "code",
   "execution_count": 13,
   "metadata": {},
   "outputs": [
    {
     "name": "stdout",
     "output_type": "stream",
     "text": [
      "\n",
      "Reviewer\n",
      "\n"
     ]
    },
    {
     "data": {
      "text/plain": [
       "<matplotlib.axes._subplots.AxesSubplot at 0x14c5de48>"
      ]
     },
     "execution_count": 13,
     "metadata": {},
     "output_type": "execute_result"
    },
    {
     "data": {
      "image/png": "[encoded data removed]",
      "text/plain": [
       "<matplotlib.figure.Figure at 0x136df358>"
      ]
     },
     "metadata": {},
     "output_type": "display_data"
    }
   ],
   "source": [
    "# Acutal Distinct Reviewer Distribution across styles of beer\n",
    "print('\\nReviewer\\n')\n",
    "sns.distplot(beer_style_details['Z_distinct_reviewers'])"
   ]
  },
  {
   "cell_type": "code",
   "execution_count": 14,
   "metadata": {},
   "outputs": [
    {
     "name": "stdout",
     "output_type": "stream",
     "text": [
      "\n",
      "Beer\n",
      "\n"
     ]
    },
    {
     "data": {
      "text/plain": [
       "<matplotlib.axes._subplots.AxesSubplot at 0x9ae6b00>"
      ]
     },
     "execution_count": 14,
     "metadata": {},
     "output_type": "execute_result"
    },
    {
     "data": {
      "image/png": "[encoded data removed]",
      "text/plain": [
       "<matplotlib.figure.Figure at 0x14d42438>"
      ]
     },
     "metadata": {},
     "output_type": "display_data"
    }
   ],
   "source": [
    "# Distinct Beer Distribution across styles of beer\n",
    "print('\\nBeer\\n')\n",
    "sns.distplot(beer_style_details['Z_distinct_beer'])"
   ]
  },
  {
   "cell_type": "code",
   "execution_count": 15,
   "metadata": {},
   "outputs": [
    {
     "data": {
      "text/plain": [
       "<matplotlib.axes._subplots.AxesSubplot at 0x15bdb550>"
      ]
     },
     "execution_count": 15,
     "metadata": {},
     "output_type": "execute_result"
    },
    {
     "data": {
      "image/png": "[encoded data removed]",
      "text/plain": [
       "<matplotlib.figure.Figure at 0x159cfd68>"
      ]
     },
     "metadata": {},
     "output_type": "display_data"
    }
   ],
   "source": [
    "# Put them all together\n",
    "sns.kdeplot(beer_style_details['Z_distinct_brewerys'])\n",
    "sns.kdeplot(beer_style_details['Z_distinct_reviewers'])\n",
    "sns.kdeplot(beer_style_details['Z_distinct_beer'])"
   ]
  },
  {
   "cell_type": "markdown",
   "metadata": {
    "collapsed": true
   },
   "source": [
    "## Observations so far\n",
    "\n",
    "From this it would seem all of our scales are positively skewed - but that's a good thing - right?  \n",
    "\n",
    "Time will tell if we take advantage of this by creating some subsets of certain styles of beer - perhaps heavily rated styles (Z-Score over 3) or lightly rate (Z-Score under -1).  Further we could do similar datasets for the other categories within this dataset (Reviewer, Beer)\n",
    "\n",
    "## So what's next\n",
    "\n",
    "It was interesting enough to do this form of analysis across styles of beer but at the end of the day - this is subjective rating data and we should concern more with the actual spread of reviews.  So next up is similar analysis only this time we group by `reviewer_profilename` as opposed to `beer_style`"
   ]
  },
  {
   "cell_type": "code",
   "execution_count": 16,
   "metadata": {},
   "outputs": [
    {
     "data": {
      "text/plain": [
       "number_of_distinct_reviewers      int64\n",
       "number_of_distinct_brewerys       int64\n",
       "number_of_distinct_beer           int64\n",
       "total_brewerys                    int64\n",
       "pct_brewerys                    float64\n",
       "mean_distinct_brewerys          float64\n",
       "sd_distinct_brewerys            float64\n",
       "Z_distinct_brewerys             float64\n",
       "total_reviewers                   int64\n",
       "pct_reviewers                   float64\n",
       "mean_distinct_reviewers         float64\n",
       "sd_distinct_reviewers           float64\n",
       "Z_distinct_reviewers            float64\n",
       "total_beer                        int64\n",
       "pct_Beer                        float64\n",
       "mean_distinct_beer              float64\n",
       "sd_distinct_beer                float64\n",
       "Z_distinct_beer                 float64\n",
       "dtype: object"
      ]
     },
     "execution_count": 16,
     "metadata": {},
     "output_type": "execute_result"
    }
   ],
   "source": [
    "beer_style_details.dtypes"
   ]
  },
  {
   "cell_type": "code",
   "execution_count": null,
   "metadata": {
    "collapsed": true
   },
   "outputs": [],
   "source": []
  }
 ],
 "metadata": {
  "kernelspec": {
   "display_name": "Python 2",
   "language": "python",
   "name": "python2"
  },
  "language_info": {
   "codemirror_mode": {
    "name": "ipython",
    "version": 2
   },
   "file_extension": ".py",
   "mimetype": "text/x-python",
   "name": "python",
   "nbconvert_exporter": "python",
   "pygments_lexer": "ipython2",
   "version": "2.7.14"
  }
 },
 "nbformat": 4,
 "nbformat_minor": 2
}
