{
 "cells": [
  {
   "cell_type": "markdown",
   "metadata": {
    "collapsed": true
   },
   "source": [
    "## Up to this point!\n",
    "\n",
    "We have attempted to answer Question 1 as a regression problem.  That would assume target values are continous - that is they can be just about any floating number.  This first became obvious when we compared predicted values (3.67, 3.78, 4.12, 4.87) to our actual target values (3.0, 4.0, 4.5, 5.0).  In fact, our target values are constant.\n",
    "\n",
    "The only values allowed are (1.0, 1.5, 2.0, 2.5, 3.0, 3.5, 4.0).  This would seem to change things, instead of treating this as a regression problem, this notebook will now instead treat this as a classification problem.  Takeaway here is to be careful when deciding upon which type of problem you are solving.  Numbers are not always numbers.  \n",
    "\n",
    "Classification tends to take certain forms:\n",
    "\n",
    "* Gender - (Male, Female, Unknown)\n",
    "* Color - (Red, Blue, Green)\n",
    "* Temperature (Cold, Windy, Snowing)\n",
    "\n",
    "but in our case of review_overall the set looks like this: (1.0, 1.5, 2.0, 2.5, 3.0, 3.5, 4.0)\n",
    "\n",
    "We'll start by loading up the tools needed and then go deeper into exploring this Question as a classification problem and see if we can better answer the Question:\n",
    "\n",
    "`Is there a steady relationship between appearance, aroma, taste across different beer styles - can an overall rating be predicted based on training data from a given beer style against a different distinct beer style.`"
   ]
  },
  {
   "cell_type": "code",
   "execution_count": 1,
   "metadata": {
    "collapsed": true
   },
   "outputs": [],
   "source": [
    "# import what we will be using\n",
    "from __future__ import print_function\n",
    "\n",
    "import pandas as pd\n",
    "import numpy as np\n",
    "\n",
    "from sklearn.cluster import KMeans,DBSCAN\n",
    "from sklearn.linear_model import LogisticRegression\n",
    "from sklearn.tree import DecisionTreeClassifier\n",
    "\n",
    "from sklearn.model_selection import train_test_split\n",
    "from sklearn import metrics\n",
    "from sklearn.metrics.cluster import silhouette_score\n",
    "#from sklearn.metrics import mean_squared_error, accuracy_score\n",
    "import scipy.stats as stats\n",
    "\n",
    "from IPython.display import Image\n",
    "import pydotplus\n",
    "from sklearn.tree import export_graphviz\n",
    "from sklearn.externals.six import StringIO\n",
    "import os\n",
    "\n",
    "# visualization\n",
    "%matplotlib inline\n",
    "import seaborn as sns\n",
    "import matplotlib.pyplot as plt"
   ]
  },
  {
   "cell_type": "code",
   "execution_count": 64,
   "metadata": {
    "collapsed": true
   },
   "outputs": [],
   "source": [
    "\n"
   ]
  },
  {
   "cell_type": "markdown",
   "metadata": {},
   "source": [
    "Define Functions we will be using next"
   ]
  },
  {
   "cell_type": "code",
   "execution_count": 2,
   "metadata": {
    "collapsed": true
   },
   "outputs": [],
   "source": [
    "'''\n",
    "want to keep row count to a reasonable number - would not do this in a real life scenario but\n",
    "for purposes of what is happening here... being able to run this stuff quickly allows\n",
    "more time for the important stuff -- actual coding and learning\n",
    "'''\n",
    "def trimDataRows(df, rowcount):\n",
    "    srRand = pd.Series(np.random.randint(df.shape[0], size=rowcount))\n",
    "    dfMerge = srRand.to_frame()\n",
    "\n",
    "    # hack a dummy column\n",
    "    dfMerge['dummy'] = \"\"\n",
    "    dfMerge.set_index(0, inplace=True)\n",
    "\n",
    "    # merge to get 5 random beer_styles\n",
    "    df = dfMerge.merge(df, how=\"inner\", left_index=True, right_index=True)\n",
    "    # drop dummy\n",
    "    try:\n",
    "        df.drop('dummy_x', axis=1, inplace=True)\n",
    "        df.drop('dummy_y', axis=1, inplace=True)\n",
    "    except:\n",
    "        pass\n",
    "\n",
    "    return df\n",
    "\n",
    "# define a function to scale predicted results to .5 intervals\n",
    "def scale_to_nearest_half_int(x):\n",
    "    return round(x * 2) / 2\n",
    "\n",
    "def scale_predictions(X):\n",
    "    for i in range(0,X.size):\n",
    "        X[i] = scale_to_nearest_half_int(X[i])        \n",
    "    return X\n",
    "\n",
    "# define a function to build and return test results\n",
    "def build_test_results(lst, testType, pred, actual, scale_pred):\n",
    "    score = metrics.r2_score(pred, actual)\n",
    "    mae = metrics.mean_absolute_error(pred, actual)\n",
    "    mse = metrics.mean_squared_error(pred, actual)\n",
    "    rmse = np.sqrt(metrics.mean_squared_error(pred, actual))\n",
    "    \n",
    "    # add to lst\n",
    "    lst.append({\"test\": testType, \"R2Score\": score, \"MAE\": mae, \"mse\" : mse, \"RMSE\" : rmse})\n",
    "    \n",
    "    if scale_pred:\n",
    "        pred_scaled = scale_predictions(pred)\n",
    "        #some recursion\n",
    "        build_test_results(lst, testType + \" (scaled)\", pred_scaled, actual,False)\n",
    "    \n",
    "    return lst"
   ]
  },
  {
   "cell_type": "markdown",
   "metadata": {},
   "source": [
    "Declare and instantiate any globals to be used throughout this notebook"
   ]
  },
  {
   "cell_type": "code",
   "execution_count": 86,
   "metadata": {},
   "outputs": [
    {
     "data": {
      "text/plain": [
       "(104, 19)"
      ]
     },
     "execution_count": 86,
     "metadata": {},
     "output_type": "execute_result"
    }
   ],
   "source": [
    "# load the data and take a quick peek - we will use the beer_style summary we created previously\n",
    "beer_styles = pd.read_csv(\"../data/beer_style_summary.csv\")\n",
    "beer_styles.shape"
   ]
  },
  {
   "cell_type": "code",
   "execution_count": 5,
   "metadata": {},
   "outputs": [
    {
     "name": "stdout",
     "output_type": "stream",
     "text": [
      "dfTop5\n",
      " 51                English Strong Ale\n",
      "14           American Pale Ale (APA)\n",
      "33    California Common / Steam Beer\n",
      "30                       Black & Tan\n",
      "98                            Tripel\n",
      "Name: beer_style, dtype: object\n",
      "\n",
      "\n",
      "dfBottom5\n",
      " 63                                Gueuze\n",
      "51                    English Strong Ale\n",
      "81                   Munich Helles Lager\n",
      "10    American Double / Imperial Pilsner\n",
      "95                          Scottish Ale\n",
      "Name: beer_style, dtype: object\n"
     ]
    }
   ],
   "source": [
    "# so 104 rows... let's build 2 separate lists to hold unique beer styles for test and train data\n",
    "\n",
    "# start by generating 10 random ints \n",
    "aryRand = np.random.randint(104, size=10)\n",
    "\n",
    "# next... convert this array to a series... take head/tail to form our actual indexes of beer style\n",
    "srRand = pd.Series(aryRand)\n",
    "dfTop5 = srRand.head().to_frame()\n",
    "# hack a dummy column\n",
    "dfTop5['dummy'] = \"\"\n",
    "dfTop5.set_index(0, inplace=True)\n",
    "# merge to get 5 random beer_styles\n",
    "dfTop5 = dfTop5.merge(beer_styles, how=\"inner\", left_index=True, right_index=True)\n",
    "\n",
    "# do it all over for train\n",
    "dfBottom5 = srRand.tail().to_frame()\n",
    "# hack a dummy column\n",
    "dfBottom5['dummy'] = \"\"\n",
    "dfBottom5.set_index(0, inplace=True)\n",
    "# merge to get 5 random beer_styles\n",
    "dfBottom5 = dfBottom5.merge(beer_styles, how=\"inner\", left_index=True, right_index=True)\n",
    "\n",
    "print ('dfTop5\\n', dfTop5['beer_style'])\n",
    "print ('\\n')\n",
    "print ('dfBottom5\\n', dfBottom5['beer_style'])"
   ]
  },
  {
   "cell_type": "code",
   "execution_count": 6,
   "metadata": {},
   "outputs": [
    {
     "data": {
      "text/plain": [
       "(1586614, 13)"
      ]
     },
     "execution_count": 6,
     "metadata": {},
     "output_type": "execute_result"
    }
   ],
   "source": [
    "# load all beer reviews\n",
    "beer_reviews = pd.read_csv(\"../data/beer_reviews.csv\")\n",
    "beer_reviews.shape"
   ]
  },
  {
   "cell_type": "code",
   "execution_count": 87,
   "metadata": {},
   "outputs": [
    {
     "data": {
      "text/plain": [
       "(104992, 32)"
      ]
     },
     "execution_count": 87,
     "metadata": {},
     "output_type": "execute_result"
    }
   ],
   "source": [
    "# first for test\n",
    "dfTest = dfTop5.merge(beer_reviews, on=\"beer_style\")\n",
    "dfTest.shape"
   ]
  },
  {
   "cell_type": "code",
   "execution_count": 88,
   "metadata": {},
   "outputs": [
    {
     "data": {
      "text/plain": [
       "(33246, 32)"
      ]
     },
     "execution_count": 88,
     "metadata": {},
     "output_type": "execute_result"
    }
   ],
   "source": [
    "# now for train\n",
    "dfTrain = dfBottom5.merge(beer_reviews, on=\"beer_style\")\n",
    "dfTrain.shape"
   ]
  },
  {
   "cell_type": "code",
   "execution_count": 89,
   "metadata": {},
   "outputs": [
    {
     "data": {
      "text/html": [
       "<div>\n",
       "<style>\n",
       "    .dataframe thead tr:only-child th {\n",
       "        text-align: right;\n",
       "    }\n",
       "\n",
       "    .dataframe thead th {\n",
       "        text-align: left;\n",
       "    }\n",
       "\n",
       "    .dataframe tbody tr th {\n",
       "        vertical-align: top;\n",
       "    }\n",
       "</style>\n",
       "<table border=\"1\" class=\"dataframe\">\n",
       "  <thead>\n",
       "    <tr style=\"text-align: right;\">\n",
       "      <th></th>\n",
       "      <th>beer_style</th>\n",
       "      <th>number_of_distinct_reviewers</th>\n",
       "      <th>number_of_distinct_brewerys</th>\n",
       "      <th>number_of_distinct_beer</th>\n",
       "      <th>total_brewerys</th>\n",
       "      <th>pct_brewerys</th>\n",
       "      <th>mean_distinct_brewerys</th>\n",
       "      <th>sd_distinct_brewerys</th>\n",
       "      <th>Z_distinct_brewerys</th>\n",
       "      <th>total_reviewers</th>\n",
       "      <th>...</th>\n",
       "      <th>review_time</th>\n",
       "      <th>review_overall</th>\n",
       "      <th>review_aroma</th>\n",
       "      <th>review_appearance</th>\n",
       "      <th>review_profilename</th>\n",
       "      <th>review_palate</th>\n",
       "      <th>review_taste</th>\n",
       "      <th>beer_name</th>\n",
       "      <th>beer_abv</th>\n",
       "      <th>beer_beerid</th>\n",
       "    </tr>\n",
       "  </thead>\n",
       "  <tbody>\n",
       "    <tr>\n",
       "      <th>2</th>\n",
       "      <td>English Strong Ale</td>\n",
       "      <td>2217</td>\n",
       "      <td>229</td>\n",
       "      <td>299</td>\n",
       "      <td>5742</td>\n",
       "      <td>0.039882</td>\n",
       "      <td>411.259615</td>\n",
       "      <td>346.078418</td>\n",
       "      <td>-0.526643</td>\n",
       "      <td>33387</td>\n",
       "      <td>...</td>\n",
       "      <td>1294015618</td>\n",
       "      <td>5.0</td>\n",
       "      <td>4.0</td>\n",
       "      <td>4.5</td>\n",
       "      <td>JamesS</td>\n",
       "      <td>4.0</td>\n",
       "      <td>4.5</td>\n",
       "      <td>Limping Mallard</td>\n",
       "      <td>7.7</td>\n",
       "      <td>63460</td>\n",
       "    </tr>\n",
       "    <tr>\n",
       "      <th>5</th>\n",
       "      <td>English Strong Ale</td>\n",
       "      <td>2217</td>\n",
       "      <td>229</td>\n",
       "      <td>299</td>\n",
       "      <td>5742</td>\n",
       "      <td>0.039882</td>\n",
       "      <td>411.259615</td>\n",
       "      <td>346.078418</td>\n",
       "      <td>-0.526643</td>\n",
       "      <td>33387</td>\n",
       "      <td>...</td>\n",
       "      <td>1292279279</td>\n",
       "      <td>5.0</td>\n",
       "      <td>4.5</td>\n",
       "      <td>5.0</td>\n",
       "      <td>JamesS</td>\n",
       "      <td>4.0</td>\n",
       "      <td>4.0</td>\n",
       "      <td>Bigger Boy's Beer</td>\n",
       "      <td>8.4</td>\n",
       "      <td>63020</td>\n",
       "    </tr>\n",
       "    <tr>\n",
       "      <th>14</th>\n",
       "      <td>English Strong Ale</td>\n",
       "      <td>2217</td>\n",
       "      <td>229</td>\n",
       "      <td>299</td>\n",
       "      <td>5742</td>\n",
       "      <td>0.039882</td>\n",
       "      <td>411.259615</td>\n",
       "      <td>346.078418</td>\n",
       "      <td>-0.526643</td>\n",
       "      <td>33387</td>\n",
       "      <td>...</td>\n",
       "      <td>1316836196</td>\n",
       "      <td>3.5</td>\n",
       "      <td>4.0</td>\n",
       "      <td>4.0</td>\n",
       "      <td>Berrmecca13</td>\n",
       "      <td>3.0</td>\n",
       "      <td>3.5</td>\n",
       "      <td>Otro Mundo Strong Red Ale</td>\n",
       "      <td>7.5</td>\n",
       "      <td>40765</td>\n",
       "    </tr>\n",
       "    <tr>\n",
       "      <th>14</th>\n",
       "      <td>English Strong Ale</td>\n",
       "      <td>2217</td>\n",
       "      <td>229</td>\n",
       "      <td>299</td>\n",
       "      <td>5742</td>\n",
       "      <td>0.039882</td>\n",
       "      <td>411.259615</td>\n",
       "      <td>346.078418</td>\n",
       "      <td>-0.526643</td>\n",
       "      <td>33387</td>\n",
       "      <td>...</td>\n",
       "      <td>1316836196</td>\n",
       "      <td>3.5</td>\n",
       "      <td>4.0</td>\n",
       "      <td>4.0</td>\n",
       "      <td>Berrmecca13</td>\n",
       "      <td>3.0</td>\n",
       "      <td>3.5</td>\n",
       "      <td>Otro Mundo Strong Red Ale</td>\n",
       "      <td>7.5</td>\n",
       "      <td>40765</td>\n",
       "    </tr>\n",
       "    <tr>\n",
       "      <th>23</th>\n",
       "      <td>English Strong Ale</td>\n",
       "      <td>2217</td>\n",
       "      <td>229</td>\n",
       "      <td>299</td>\n",
       "      <td>5742</td>\n",
       "      <td>0.039882</td>\n",
       "      <td>411.259615</td>\n",
       "      <td>346.078418</td>\n",
       "      <td>-0.526643</td>\n",
       "      <td>33387</td>\n",
       "      <td>...</td>\n",
       "      <td>1289853537</td>\n",
       "      <td>2.5</td>\n",
       "      <td>2.5</td>\n",
       "      <td>2.5</td>\n",
       "      <td>Tone</td>\n",
       "      <td>3.5</td>\n",
       "      <td>3.0</td>\n",
       "      <td>Otro Mundo Strong Red Ale</td>\n",
       "      <td>7.5</td>\n",
       "      <td>40765</td>\n",
       "    </tr>\n",
       "  </tbody>\n",
       "</table>\n",
       "<p>5 rows × 31 columns</p>\n",
       "</div>"
      ],
      "text/plain": [
       "            beer_style  number_of_distinct_reviewers  \\\n",
       "2   English Strong Ale                          2217   \n",
       "5   English Strong Ale                          2217   \n",
       "14  English Strong Ale                          2217   \n",
       "14  English Strong Ale                          2217   \n",
       "23  English Strong Ale                          2217   \n",
       "\n",
       "    number_of_distinct_brewerys  number_of_distinct_beer  total_brewerys  \\\n",
       "2                           229                      299            5742   \n",
       "5                           229                      299            5742   \n",
       "14                          229                      299            5742   \n",
       "14                          229                      299            5742   \n",
       "23                          229                      299            5742   \n",
       "\n",
       "    pct_brewerys  mean_distinct_brewerys  sd_distinct_brewerys  \\\n",
       "2       0.039882              411.259615            346.078418   \n",
       "5       0.039882              411.259615            346.078418   \n",
       "14      0.039882              411.259615            346.078418   \n",
       "14      0.039882              411.259615            346.078418   \n",
       "23      0.039882              411.259615            346.078418   \n",
       "\n",
       "    Z_distinct_brewerys  total_reviewers     ...       review_time  \\\n",
       "2             -0.526643            33387     ...        1294015618   \n",
       "5             -0.526643            33387     ...        1292279279   \n",
       "14            -0.526643            33387     ...        1316836196   \n",
       "14            -0.526643            33387     ...        1316836196   \n",
       "23            -0.526643            33387     ...        1289853537   \n",
       "\n",
       "    review_overall  review_aroma  review_appearance  review_profilename  \\\n",
       "2              5.0           4.0                4.5              JamesS   \n",
       "5              5.0           4.5                5.0              JamesS   \n",
       "14             3.5           4.0                4.0         Berrmecca13   \n",
       "14             3.5           4.0                4.0         Berrmecca13   \n",
       "23             2.5           2.5                2.5                Tone   \n",
       "\n",
       "    review_palate  review_taste                  beer_name  beer_abv  \\\n",
       "2             4.0           4.5            Limping Mallard       7.7   \n",
       "5             4.0           4.0          Bigger Boy's Beer       8.4   \n",
       "14            3.0           3.5  Otro Mundo Strong Red Ale       7.5   \n",
       "14            3.0           3.5  Otro Mundo Strong Red Ale       7.5   \n",
       "23            3.5           3.0  Otro Mundo Strong Red Ale       7.5   \n",
       "\n",
       "    beer_beerid  \n",
       "2         63460  \n",
       "5         63020  \n",
       "14        40765  \n",
       "14        40765  \n",
       "23        40765  \n",
       "\n",
       "[5 rows x 31 columns]"
      ]
     },
     "execution_count": 89,
     "metadata": {},
     "output_type": "execute_result"
    }
   ],
   "source": [
    "dfTrain = trimDataRows(dfTrain, 25000)\n",
    "dfTest = trimDataRows(dfTest, 25000)\n",
    "\n",
    "dfTest.head()"
   ]
  },
  {
   "cell_type": "code",
   "execution_count": 90,
   "metadata": {},
   "outputs": [
    {
     "data": {
      "text/html": [
       "<div>\n",
       "<style>\n",
       "    .dataframe thead tr:only-child th {\n",
       "        text-align: right;\n",
       "    }\n",
       "\n",
       "    .dataframe thead th {\n",
       "        text-align: left;\n",
       "    }\n",
       "\n",
       "    .dataframe tbody tr th {\n",
       "        vertical-align: top;\n",
       "    }\n",
       "</style>\n",
       "<table border=\"1\" class=\"dataframe\">\n",
       "  <thead>\n",
       "    <tr style=\"text-align: right;\">\n",
       "      <th></th>\n",
       "      <th>beer_style</th>\n",
       "      <th>number_of_distinct_reviewers</th>\n",
       "      <th>number_of_distinct_brewerys</th>\n",
       "      <th>number_of_distinct_beer</th>\n",
       "      <th>total_brewerys</th>\n",
       "      <th>pct_brewerys</th>\n",
       "      <th>mean_distinct_brewerys</th>\n",
       "      <th>sd_distinct_brewerys</th>\n",
       "      <th>Z_distinct_brewerys</th>\n",
       "      <th>total_reviewers</th>\n",
       "      <th>...</th>\n",
       "      <th>review_time</th>\n",
       "      <th>review_overall</th>\n",
       "      <th>review_aroma</th>\n",
       "      <th>review_appearance</th>\n",
       "      <th>review_profilename</th>\n",
       "      <th>review_palate</th>\n",
       "      <th>review_taste</th>\n",
       "      <th>beer_name</th>\n",
       "      <th>beer_abv</th>\n",
       "      <th>beer_beerid</th>\n",
       "    </tr>\n",
       "  </thead>\n",
       "  <tbody>\n",
       "    <tr>\n",
       "      <th>0</th>\n",
       "      <td>Gueuze</td>\n",
       "      <td>2004</td>\n",
       "      <td>36</td>\n",
       "      <td>93</td>\n",
       "      <td>5742</td>\n",
       "      <td>0.00627</td>\n",
       "      <td>411.259615</td>\n",
       "      <td>346.078418</td>\n",
       "      <td>-1.08432</td>\n",
       "      <td>33387</td>\n",
       "      <td>...</td>\n",
       "      <td>1323537615</td>\n",
       "      <td>4.5</td>\n",
       "      <td>4.5</td>\n",
       "      <td>4.0</td>\n",
       "      <td>HopHead84</td>\n",
       "      <td>3.5</td>\n",
       "      <td>4.0</td>\n",
       "      <td>Batch 50: Grand Funk Ale Road</td>\n",
       "      <td>5.8</td>\n",
       "      <td>75559</td>\n",
       "    </tr>\n",
       "    <tr>\n",
       "      <th>2</th>\n",
       "      <td>Gueuze</td>\n",
       "      <td>2004</td>\n",
       "      <td>36</td>\n",
       "      <td>93</td>\n",
       "      <td>5742</td>\n",
       "      <td>0.00627</td>\n",
       "      <td>411.259615</td>\n",
       "      <td>346.078418</td>\n",
       "      <td>-1.08432</td>\n",
       "      <td>33387</td>\n",
       "      <td>...</td>\n",
       "      <td>1325913428</td>\n",
       "      <td>3.5</td>\n",
       "      <td>4.0</td>\n",
       "      <td>3.5</td>\n",
       "      <td>callmemickey</td>\n",
       "      <td>3.5</td>\n",
       "      <td>3.5</td>\n",
       "      <td>Batch 50: Grand Funk Ale Road</td>\n",
       "      <td>5.8</td>\n",
       "      <td>75559</td>\n",
       "    </tr>\n",
       "    <tr>\n",
       "      <th>3</th>\n",
       "      <td>Gueuze</td>\n",
       "      <td>2004</td>\n",
       "      <td>36</td>\n",
       "      <td>93</td>\n",
       "      <td>5742</td>\n",
       "      <td>0.00627</td>\n",
       "      <td>411.259615</td>\n",
       "      <td>346.078418</td>\n",
       "      <td>-1.08432</td>\n",
       "      <td>33387</td>\n",
       "      <td>...</td>\n",
       "      <td>1325874244</td>\n",
       "      <td>4.0</td>\n",
       "      <td>4.0</td>\n",
       "      <td>3.5</td>\n",
       "      <td>Sean9689</td>\n",
       "      <td>3.5</td>\n",
       "      <td>4.0</td>\n",
       "      <td>Batch 50: Grand Funk Ale Road</td>\n",
       "      <td>5.8</td>\n",
       "      <td>75559</td>\n",
       "    </tr>\n",
       "    <tr>\n",
       "      <th>7</th>\n",
       "      <td>Gueuze</td>\n",
       "      <td>2004</td>\n",
       "      <td>36</td>\n",
       "      <td>93</td>\n",
       "      <td>5742</td>\n",
       "      <td>0.00627</td>\n",
       "      <td>411.259615</td>\n",
       "      <td>346.078418</td>\n",
       "      <td>-1.08432</td>\n",
       "      <td>33387</td>\n",
       "      <td>...</td>\n",
       "      <td>1323887472</td>\n",
       "      <td>4.0</td>\n",
       "      <td>3.5</td>\n",
       "      <td>2.5</td>\n",
       "      <td>billshmeinke</td>\n",
       "      <td>3.0</td>\n",
       "      <td>4.0</td>\n",
       "      <td>Batch 50: Grand Funk Ale Road</td>\n",
       "      <td>5.8</td>\n",
       "      <td>75559</td>\n",
       "    </tr>\n",
       "    <tr>\n",
       "      <th>9</th>\n",
       "      <td>Gueuze</td>\n",
       "      <td>2004</td>\n",
       "      <td>36</td>\n",
       "      <td>93</td>\n",
       "      <td>5742</td>\n",
       "      <td>0.00627</td>\n",
       "      <td>411.259615</td>\n",
       "      <td>346.078418</td>\n",
       "      <td>-1.08432</td>\n",
       "      <td>33387</td>\n",
       "      <td>...</td>\n",
       "      <td>1323150270</td>\n",
       "      <td>4.0</td>\n",
       "      <td>4.0</td>\n",
       "      <td>4.5</td>\n",
       "      <td>CharlieMurphy</td>\n",
       "      <td>4.0</td>\n",
       "      <td>3.5</td>\n",
       "      <td>Batch 50: Grand Funk Ale Road</td>\n",
       "      <td>5.8</td>\n",
       "      <td>75559</td>\n",
       "    </tr>\n",
       "  </tbody>\n",
       "</table>\n",
       "<p>5 rows × 31 columns</p>\n",
       "</div>"
      ],
      "text/plain": [
       "  beer_style  number_of_distinct_reviewers  number_of_distinct_brewerys  \\\n",
       "0     Gueuze                          2004                           36   \n",
       "2     Gueuze                          2004                           36   \n",
       "3     Gueuze                          2004                           36   \n",
       "7     Gueuze                          2004                           36   \n",
       "9     Gueuze                          2004                           36   \n",
       "\n",
       "   number_of_distinct_beer  total_brewerys  pct_brewerys  \\\n",
       "0                       93            5742       0.00627   \n",
       "2                       93            5742       0.00627   \n",
       "3                       93            5742       0.00627   \n",
       "7                       93            5742       0.00627   \n",
       "9                       93            5742       0.00627   \n",
       "\n",
       "   mean_distinct_brewerys  sd_distinct_brewerys  Z_distinct_brewerys  \\\n",
       "0              411.259615            346.078418             -1.08432   \n",
       "2              411.259615            346.078418             -1.08432   \n",
       "3              411.259615            346.078418             -1.08432   \n",
       "7              411.259615            346.078418             -1.08432   \n",
       "9              411.259615            346.078418             -1.08432   \n",
       "\n",
       "   total_reviewers     ...       review_time  review_overall  review_aroma  \\\n",
       "0            33387     ...        1323537615             4.5           4.5   \n",
       "2            33387     ...        1325913428             3.5           4.0   \n",
       "3            33387     ...        1325874244             4.0           4.0   \n",
       "7            33387     ...        1323887472             4.0           3.5   \n",
       "9            33387     ...        1323150270             4.0           4.0   \n",
       "\n",
       "   review_appearance  review_profilename  review_palate  review_taste  \\\n",
       "0                4.0           HopHead84            3.5           4.0   \n",
       "2                3.5        callmemickey            3.5           3.5   \n",
       "3                3.5            Sean9689            3.5           4.0   \n",
       "7                2.5        billshmeinke            3.0           4.0   \n",
       "9                4.5       CharlieMurphy            4.0           3.5   \n",
       "\n",
       "                       beer_name  beer_abv  beer_beerid  \n",
       "0  Batch 50: Grand Funk Ale Road       5.8        75559  \n",
       "2  Batch 50: Grand Funk Ale Road       5.8        75559  \n",
       "3  Batch 50: Grand Funk Ale Road       5.8        75559  \n",
       "7  Batch 50: Grand Funk Ale Road       5.8        75559  \n",
       "9  Batch 50: Grand Funk Ale Road       5.8        75559  \n",
       "\n",
       "[5 rows x 31 columns]"
      ]
     },
     "execution_count": 90,
     "metadata": {},
     "output_type": "execute_result"
    }
   ],
   "source": [
    "dfTrain.head()"
   ]
  },
  {
   "cell_type": "code",
   "execution_count": 11,
   "metadata": {},
   "outputs": [
    {
     "name": "stdout",
     "output_type": "stream",
     "text": [
      "X_variable:\t ['review_appearance', 'review_taste', 'review_aroma']\n",
      "y_variable:\t ['review_overall']\n"
     ]
    }
   ],
   "source": [
    "# pick our feature/predictor list(s)\n",
    "X_variable = list(['review_appearance','review_taste','review_aroma'])\n",
    "y_variable = list(['review_overall'])\n",
    "\n",
    "print('X_variable:\\t', X_variable)\n",
    "print('y_variable:\\t', y_variable)"
   ]
  },
  {
   "cell_type": "markdown",
   "metadata": {},
   "source": [
    "## K-Means Clustering\n",
    "\n",
    "Let's start with some clustering and see how that might relate to our fixed set of target values\n",
    "\n",
    "Recall target values are a fixed set of numbers: (1.0, 1.5, 2.0, 2.5, 3.0, 3.5, 4.0, 4.5, 5.0)\n",
    "\n",
    "9 distinct values - does that mean we should expect 9 distinct clusters?... I think not but lets find out"
   ]
  },
  {
   "cell_type": "code",
   "execution_count": 14,
   "metadata": {},
   "outputs": [
    {
     "data": {
      "text/plain": [
       "KMeans(algorithm='auto', copy_x=True, init='k-means++', max_iter=300,\n",
       "    n_clusters=9, n_init=10, n_jobs=1, precompute_distances='auto',\n",
       "    random_state=1234, tol=0.0001, verbose=0)"
      ]
     },
     "execution_count": 14,
     "metadata": {},
     "output_type": "execute_result"
    }
   ],
   "source": [
    "# so start with 9 clusters - after all we do have 9 target values\n",
    "kmeans = KMeans(n_clusters=9,random_state=1234)\n",
    "kmeans.fit(dfTrain[X_variable])"
   ]
  },
  {
   "cell_type": "code",
   "execution_count": 34,
   "metadata": {},
   "outputs": [
    {
     "name": "stdout",
     "output_type": "stream",
     "text": [
      "Unique values for cluster 1:\t [ 3.   2.5  2.   1.5  4.   1.   3.5  5.   4.5]\n",
      "Unique values for cluster 2:\t [ 3.   4.   4.5  3.5  5.   2.   2.5]\n",
      "Unique values for cluster 3:\t [ 3.5  4.5  4.   3.   2.5  5.   2.   1. ]\n",
      "Unique values for cluster 4:\t [ 1.   1.5  2.   2.5  3.   4.   3.5  4.5  5. ]\n",
      "Unique values for cluster 5:\t [ 2.5  3.   3.5  4.   2.   4.5  1.5  5. ]\n",
      "Unique values for cluster 6:\t [ 3.5  4.   4.5  3.   2.   5.   2.5]\n",
      "Unique values for cluster 7:\t [ 3.   2.5  2.   1.5  1.   4.   3.5  5.   4.5]\n",
      "Unique values for cluster 8:\t [ 4.5  4.   5.   3.5  3.   2.5]\n",
      "Unique values for cluster 9:\t [ 2.5  3.5  3.   4.   2.   4.5  1.   5.   1.5]\n"
     ]
    }
   ],
   "source": [
    "# add a column for how things were clustered... then do a quick sanity review\n",
    "dfTrain[\"kmeans_2\"] = [\"cluster_\"+str(label) for label in kmeans.labels_]\n",
    "\n",
    "print('Unique values for cluster 1:\\t', dfTrain[dfTrain.kmeans_2 == \"cluster_0\"].review_overall.unique())\n",
    "print('Unique values for cluster 2:\\t', dfTrain[dfTrain.kmeans_2 == \"cluster_1\"].review_overall.unique())\n",
    "print('Unique values for cluster 3:\\t', dfTrain[dfTrain.kmeans_2 == \"cluster_2\"].review_overall.unique())\n",
    "print('Unique values for cluster 4:\\t', dfTrain[dfTrain.kmeans_2 == \"cluster_3\"].review_overall.unique())\n",
    "print('Unique values for cluster 5:\\t', dfTrain[dfTrain.kmeans_2 == \"cluster_4\"].review_overall.unique())\n",
    "print('Unique values for cluster 6:\\t', dfTrain[dfTrain.kmeans_2 == \"cluster_5\"].review_overall.unique())\n",
    "print('Unique values for cluster 7:\\t', dfTrain[dfTrain.kmeans_2 == \"cluster_6\"].review_overall.unique())\n",
    "print('Unique values for cluster 8:\\t', dfTrain[dfTrain.kmeans_2 == \"cluster_7\"].review_overall.unique())\n",
    "print('Unique values for cluster 9:\\t', dfTrain[dfTrain.kmeans_2 == \"cluster_8\"].review_overall.unique())"
   ]
  },
  {
   "cell_type": "markdown",
   "metadata": {},
   "source": [
    "wow - that's all over the place - not what we might have expected... how does this look visually?"
   ]
  },
  {
   "cell_type": "code",
   "execution_count": 53,
   "metadata": {},
   "outputs": [
    {
     "data": {
      "text/plain": [
       "<seaborn.axisgrid.PairGrid at 0x536ec208>"
      ]
     },
     "execution_count": 53,
     "metadata": {},
     "output_type": "execute_result"
    },
    {
     "data": {
      "image/png": "[encoded data removed]",
      "text/plain": [
       "<matplotlib.figure.Figure at 0x536ec710>"
      ]
     },
     "metadata": {},
     "output_type": "display_data"
    }
   ],
   "source": [
    "# usin list(X_variable) as opposed to simply assigning X_variable creates a new list (empty and then appends X_variable)\n",
    "plot_vars = list(X_variable)\n",
    "plot_vars.append('kmeans_2')\n",
    "\n",
    "sns.pairplot(dfTrain[plot_vars],hue=\"kmeans_2\")"
   ]
  },
  {
   "cell_type": "markdown",
   "metadata": {},
   "source": [
    "this seems a bit busy and from what has been gleaned... clustering does not appear to have a great correlation with the target value(s).  what does the Silhoutte Score tell us?\n",
    "\n",
    "per wikipedia--\n",
    "`The silhouette value is a measure of how similar an object is to its own cluster (cohesion) compared to other clusters (separation). The silhouette ranges from −1 to +1, where a high value indicates that the object is well matched to its own cluster and poorly matched to neighboring clusters`\n",
    "\n",
    "so we want a HIGH score"
   ]
  },
  {
   "cell_type": "code",
   "execution_count": 59,
   "metadata": {},
   "outputs": [
    {
     "name": "stdout",
     "output_type": "stream",
     "text": [
      "Silhouette score: 0.288446307338\n"
     ]
    }
   ],
   "source": [
    "print(\"Silhouette score:\",silhouette_score(dfTrain[X_variable], kmeans.labels_))"
   ]
  },
  {
   "cell_type": "markdown",
   "metadata": {},
   "source": [
    "so we got .288 and while that is a good distance from -1 it is still a ways off from 1... let's next cycle through a range of clusters and graphically compare scores to see if we can find a better number to use for clustering"
   ]
  },
  {
   "cell_type": "code",
   "execution_count": 63,
   "metadata": {},
   "outputs": [
    {
     "data": {
      "text/plain": [
       "Text(0,0.5,u'Silhouette Score')"
      ]
     },
     "execution_count": 63,
     "metadata": {},
     "output_type": "execute_result"
    },
    {
     "data": {
      "image/png": "[encoded data removed]",
      "text/plain": [
       "<matplotlib.figure.Figure at 0x52ff3780>"
      ]
     },
     "metadata": {},
     "output_type": "display_data"
    }
   ],
   "source": [
    "clusters = range(2,9, 2)\n",
    "scores = list([])\n",
    "\n",
    "for cluster in clusters:\n",
    "    km = KMeans(n_clusters=cluster, random_state=1234) \n",
    "    km.fit(dfTrain[X_variable])\n",
    "    scores.append(silhouette_score(dfTrain[X_variable], km.labels_))\n",
    "\n",
    "# plot the results\n",
    "sns.mpl.pyplot.plot(clusters, scores)\n",
    "sns.mpl.pyplot.xlabel('Number of clusters')\n",
    "sns.mpl.pyplot.ylabel('Silhouette Score')"
   ]
  },
  {
   "cell_type": "code",
   "execution_count": 65,
   "metadata": {},
   "outputs": [
    {
     "data": {
      "text/html": [
       "<div>\n",
       "<style>\n",
       "    .dataframe thead tr:only-child th {\n",
       "        text-align: right;\n",
       "    }\n",
       "\n",
       "    .dataframe thead th {\n",
       "        text-align: left;\n",
       "    }\n",
       "\n",
       "    .dataframe tbody tr th {\n",
       "        vertical-align: top;\n",
       "    }\n",
       "</style>\n",
       "<table border=\"1\" class=\"dataframe\">\n",
       "  <thead>\n",
       "    <tr style=\"text-align: right;\">\n",
       "      <th></th>\n",
       "      <th>0</th>\n",
       "    </tr>\n",
       "  </thead>\n",
       "  <tbody>\n",
       "    <tr>\n",
       "      <th>0</th>\n",
       "      <td>0.514583</td>\n",
       "    </tr>\n",
       "    <tr>\n",
       "      <th>1</th>\n",
       "      <td>0.314353</td>\n",
       "    </tr>\n",
       "    <tr>\n",
       "      <th>2</th>\n",
       "      <td>0.277937</td>\n",
       "    </tr>\n",
       "    <tr>\n",
       "      <th>3</th>\n",
       "      <td>0.279606</td>\n",
       "    </tr>\n",
       "  </tbody>\n",
       "</table>\n",
       "</div>"
      ],
      "text/plain": [
       "          0\n",
       "0  0.514583\n",
       "1  0.314353\n",
       "2  0.277937\n",
       "3  0.279606"
      ]
     },
     "execution_count": 65,
     "metadata": {},
     "output_type": "execute_result"
    }
   ],
   "source": [
    "pd.DataFrame(scores)"
   ]
  },
  {
   "cell_type": "markdown",
   "metadata": {},
   "source": [
    "Silhoutte is .514 for 2 clusters, .314 for 3, after 6 it tends to taper off with a slight bump around 8 - recall 9 returned .2884.\n",
    "\n",
    "Given the nature of where `review_overall` comes from (e.g. on a scale of 1 to 5), I am thinking 3 clusters would be ideal for what we are trying to do here - ultimately we could classify these as good_review (4.0+), poor_review (>3.0) and fair_review (x == 3.0 or x == 3.5)\n",
    "\n",
    "Let's set clustering to 3 and then again run the same metrics that were ran for clusters=9"
   ]
  },
  {
   "cell_type": "code",
   "execution_count": 14,
   "metadata": {
    "scrolled": true
   },
   "outputs": [
    {
     "data": {
      "text/plain": [
       "KMeans(algorithm='auto', copy_x=True, init='k-means++', max_iter=300,\n",
       "    n_clusters=3, n_init=10, n_jobs=1, precompute_distances='auto',\n",
       "    random_state=1234, tol=0.0001, verbose=0)"
      ]
     },
     "execution_count": 14,
     "metadata": {},
     "output_type": "execute_result"
    }
   ],
   "source": [
    "km3 = KMeans(n_clusters=3,random_state=1234)\n",
    "km3.fit(dfTrain[X_variable])"
   ]
  },
  {
   "cell_type": "code",
   "execution_count": 17,
   "metadata": {},
   "outputs": [
    {
     "name": "stdout",
     "output_type": "stream",
     "text": [
      "Unique values for cluster 1:\t [ 3.5  3.   4.   4.5  2.5  5.   2.   1.5  1. ]\n",
      "Unique values for cluster 2:\t [ 3.   3.5  2.   4.   5.   2.5  1.   1.5  4.5]\n",
      "Unique values for cluster 3:\t [ 4.5  4.   5.   3.5  3.   2.5  1.   2. ]\n"
     ]
    }
   ],
   "source": [
    "# add a column for how things were clustered... then do a quick sanity review\n",
    "dfTrain[\"kmeans_3\"] = [\"cluster_\"+str(label) for label in km3.labels_]\n",
    "\n",
    "print('Unique values for cluster 1:\\t', dfTrain[dfTrain.kmeans_3 == \"cluster_0\"].review_overall.unique())\n",
    "print('Unique values for cluster 2:\\t', dfTrain[dfTrain.kmeans_3 == \"cluster_1\"].review_overall.unique())\n",
    "print('Unique values for cluster 3:\\t', dfTrain[dfTrain.kmeans_3 == \"cluster_2\"].review_overall.unique())"
   ]
  },
  {
   "cell_type": "code",
   "execution_count": 18,
   "metadata": {},
   "outputs": [
    {
     "data": {
      "text/plain": [
       "<seaborn.axisgrid.PairGrid at 0xd714160>"
      ]
     },
     "execution_count": 18,
     "metadata": {},
     "output_type": "execute_result"
    },
    {
     "data": {
      "image/png": "[encoded data removed]",
      "text/plain": [
       "<matplotlib.figure.Figure at 0x13f22b38>"
      ]
     },
     "metadata": {},
     "output_type": "display_data"
    }
   ],
   "source": [
    "# usin list(X_variable) as opposed to simply assigning X_variable creates a new list (empty and then appends X_variable)\n",
    "plot_vars = list(X_variable)\n",
    "plot_vars.append('kmeans_3')\n",
    "\n",
    "sns.pairplot(dfTrain[plot_vars],hue=\"kmeans_3\")"
   ]
  },
  {
   "cell_type": "code",
   "execution_count": 20,
   "metadata": {},
   "outputs": [
    {
     "data": {
      "text/plain": [
       "0.3018499417973517"
      ]
     },
     "execution_count": 20,
     "metadata": {},
     "output_type": "execute_result"
    }
   ],
   "source": [
    "# and finally the score\n",
    "silhouette_score(dfTrain[X_variable], km3.labels_)"
   ]
  },
  {
   "cell_type": "markdown",
   "metadata": {},
   "source": [
    "and while .302 isn't much better than .28 (.5ish could be too close to over-fitting)... as best I can tell things do look better.  Part of this is the data itself no doubt - at the end of the day we are trying to make predictions against subjective data (which can and often is all over the map).  The methodology I think is more important at this point than the end-accuracy - strongly suspect that using all the methods that have been used up to this point only against objective-scientific data against similiar targets would be yielding much different results"
   ]
  },
  {
   "cell_type": "markdown",
   "metadata": {},
   "source": [
    "## Logistic Regression\n",
    "\n",
    "so now... will just  create some new columns to our data set (targets) and then run some predictive analysis and see what happens"
   ]
  },
  {
   "cell_type": "code",
   "execution_count": 95,
   "metadata": {},
   "outputs": [
    {
     "name": "stdout",
     "output_type": "stream",
     "text": [
      "Train\n",
      "    review_overall  good_review  fair_review  poor_review\n",
      "0             4.5            1            0            0\n",
      "2             3.5            0            1            0\n",
      "3             4.0            1            0            0\n",
      "7             4.0            1            0            0\n",
      "9             4.0            1            0            0\n",
      "Test\n",
      "     review_overall  good_review  fair_review  poor_review\n",
      "2              5.0            1            0            0\n",
      "5              5.0            1            0            0\n",
      "14             3.5            0            1            0\n",
      "14             3.5            0            1            0\n",
      "23             2.5            0            0            1\n"
     ]
    }
   ],
   "source": [
    "#good_review (4.0+), poor_review (>3.0) and fair_review (x == 3.0 or x == 3.5)\n",
    "dfTrain['good_review'] = (dfTrain.review_overall >= 4.0).astype(int)\n",
    "dfTrain['poor_review'] = (dfTrain.review_overall < 3.0).astype(int)\n",
    "dfTrain['fair_review'] = (np.logical_and(dfTrain.review_overall >= 3.0, dfTrain.review_overall < 4.0).astype(int))\n",
    "print('Train\\n',dfTrain[['review_overall', 'good_review', 'fair_review', 'poor_review']].head(5))\n",
    "\n",
    "#good_review (4.0+), poor_review (>3.0) and fair_review (x == 3.0 or x == 3.5)\n",
    "dfTest['good_review'] = (dfTest.review_overall >= 4.0).astype(int)\n",
    "dfTest['poor_review'] = (dfTest.review_overall < 3.0).astype(int)\n",
    "dfTest['fair_review'] = (np.logical_and(dfTest.review_overall >= 3.0, dfTest.review_overall < 4.0).astype(int))\n",
    "print('Test\\n',dfTest[['review_overall', 'good_review', 'fair_review', 'poor_review']].head(5))\n"
   ]
  },
  {
   "cell_type": "code",
   "execution_count": 92,
   "metadata": {
    "collapsed": true
   },
   "outputs": [],
   "source": [
    "# now for some logistic regression -- but ONLY on training data\n",
    "logreg = LogisticRegression(C=1e9)\n",
    "X = dfTrain[X_variable]\n",
    "y = dfTrain.good_review\n",
    "logreg.fit(X, y)\n",
    "pred = logreg.predict(X)"
   ]
  },
  {
   "cell_type": "code",
   "execution_count": 93,
   "metadata": {},
   "outputs": [
    {
     "data": {
      "text/plain": [
       "array([1, 0, 1, ..., 0, 0, 0])"
      ]
     },
     "execution_count": 93,
     "metadata": {},
     "output_type": "execute_result"
    }
   ],
   "source": [
    "pred"
   ]
  },
  {
   "cell_type": "code",
   "execution_count": 94,
   "metadata": {},
   "outputs": [
    {
     "name": "stdout",
     "output_type": "stream",
     "text": [
      "Model accuracy: 0.81344\n"
     ]
    }
   ],
   "source": [
    "# how many predictions were we right about?\n",
    "print(\"Model accuracy (no train-test-split):\",metrics.accuracy_score(y,pred))"
   ]
  },
  {
   "cell_type": "markdown",
   "metadata": {},
   "source": [
    "that is really good... what does it look like on a train-test-split model"
   ]
  },
  {
   "cell_type": "code",
   "execution_count": 96,
   "metadata": {},
   "outputs": [],
   "source": [
    "# now for some logistic regression\n",
    "logreg = LogisticRegression(C=1e9)\n",
    "X = dfTrain[X_variable]\n",
    "y = dfTrain.good_review\n",
    "logreg.fit(dfTrain[X_variable], dfTrain.good_review)\n",
    "pred = logreg.predict(dfTest[X_variable])"
   ]
  },
  {
   "cell_type": "code",
   "execution_count": 98,
   "metadata": {},
   "outputs": [
    {
     "name": "stdout",
     "output_type": "stream",
     "text": [
      "Model accuracy (with train-test-split): 0.81944\n"
     ]
    }
   ],
   "source": [
    "# how many predictions were we right about?\n",
    "print(\"Model accuracy (with train-test-split):\",metrics.accuracy_score(dfTest.good_review,pred))"
   ]
  },
  {
   "cell_type": "markdown",
   "metadata": {},
   "source": [
    "## DecisionTree Classifer\n",
    "\n",
    "so just for fun... let's try a new toy"
   ]
  },
  {
   "cell_type": "code",
   "execution_count": 99,
   "metadata": {
    "collapsed": true
   },
   "outputs": [],
   "source": [
    "dtc = DecisionTreeClassifier(max_depth = 3, random_state=0)\n",
    "dtc.fit(dfTrain[X_variable], dfTrain.good_review)\n",
    "pred = dtc.predict(dfTest[X_variable])"
   ]
  },
  {
   "cell_type": "code",
   "execution_count": 100,
   "metadata": {},
   "outputs": [
    {
     "name": "stdout",
     "output_type": "stream",
     "text": [
      "Model accuracy (with train-test-split): 0.81236\n"
     ]
    }
   ],
   "source": [
    "# how many predictions were we right about?\n",
    "print(\"Model accuracy (with train-test-split):\",metrics.accuracy_score(dfTest.good_review,pred))"
   ]
  },
  {
   "cell_type": "markdown",
   "metadata": {},
   "source": [
    "# Back to the initial Question and a final attempt to answer\n",
    "\n",
    "`Is there a steady relationship between appearance, aroma, taste across different beer styles - can an overall rating be predicted based on training data from a given beer style against a different distinct beer style.`\n",
    "\n",
    "Just like was done using Linear Regression... we'll start by loading up a singular style and then run the same tests and compare accuracy"
   ]
  },
  {
   "cell_type": "code",
   "execution_count": 101,
   "metadata": {},
   "outputs": [
    {
     "data": {
      "text/html": [
       "<div>\n",
       "<style>\n",
       "    .dataframe thead tr:only-child th {\n",
       "        text-align: right;\n",
       "    }\n",
       "\n",
       "    .dataframe thead th {\n",
       "        text-align: left;\n",
       "    }\n",
       "\n",
       "    .dataframe tbody tr th {\n",
       "        vertical-align: top;\n",
       "    }\n",
       "</style>\n",
       "<table border=\"1\" class=\"dataframe\">\n",
       "  <thead>\n",
       "    <tr style=\"text-align: right;\">\n",
       "      <th></th>\n",
       "      <th>beer_style</th>\n",
       "      <th>number_of_distinct_reviewers</th>\n",
       "      <th>number_of_distinct_brewerys</th>\n",
       "      <th>number_of_distinct_beer</th>\n",
       "      <th>total_brewerys</th>\n",
       "      <th>pct_brewerys</th>\n",
       "      <th>mean_distinct_brewerys</th>\n",
       "      <th>sd_distinct_brewerys</th>\n",
       "      <th>Z_distinct_brewerys</th>\n",
       "      <th>total_reviewers</th>\n",
       "      <th>pct_reviewers</th>\n",
       "      <th>mean_distinct_reviewers</th>\n",
       "      <th>sd_distinct_reviewers</th>\n",
       "      <th>Z_distinct_reviewers</th>\n",
       "      <th>total_beer</th>\n",
       "      <th>pct_Beer</th>\n",
       "      <th>mean_distinct_beer</th>\n",
       "      <th>sd_distinct_beer</th>\n",
       "      <th>Z_distinct_beer</th>\n",
       "    </tr>\n",
       "  </thead>\n",
       "  <tbody>\n",
       "    <tr>\n",
       "      <th>12</th>\n",
       "      <td>American IPA</td>\n",
       "      <td>12480</td>\n",
       "      <td>1606</td>\n",
       "      <td>3167</td>\n",
       "      <td>5742</td>\n",
       "      <td>0.279693</td>\n",
       "      <td>411.259615</td>\n",
       "      <td>346.078418</td>\n",
       "      <td>3.452224</td>\n",
       "      <td>33387</td>\n",
       "      <td>0.373798</td>\n",
       "      <td>3870.201923</td>\n",
       "      <td>2442.428826</td>\n",
       "      <td>3.525097</td>\n",
       "      <td>56857</td>\n",
       "      <td>0.055701</td>\n",
       "      <td>566.269231</td>\n",
       "      <td>558.586222</td>\n",
       "      <td>4.655916</td>\n",
       "    </tr>\n",
       "  </tbody>\n",
       "</table>\n",
       "</div>"
      ],
      "text/plain": [
       "      beer_style  number_of_distinct_reviewers  number_of_distinct_brewerys  \\\n",
       "12  American IPA                         12480                         1606   \n",
       "\n",
       "    number_of_distinct_beer  total_brewerys  pct_brewerys  \\\n",
       "12                     3167            5742      0.279693   \n",
       "\n",
       "    mean_distinct_brewerys  sd_distinct_brewerys  Z_distinct_brewerys  \\\n",
       "12              411.259615            346.078418             3.452224   \n",
       "\n",
       "    total_reviewers  pct_reviewers  mean_distinct_reviewers  \\\n",
       "12            33387       0.373798              3870.201923   \n",
       "\n",
       "    sd_distinct_reviewers  Z_distinct_reviewers  total_beer  pct_Beer  \\\n",
       "12            2442.428826              3.525097       56857  0.055701   \n",
       "\n",
       "    mean_distinct_beer  sd_distinct_beer  Z_distinct_beer  \n",
       "12          566.269231        558.586222         4.655916  "
      ]
     },
     "execution_count": 101,
     "metadata": {},
     "output_type": "execute_result"
    }
   ],
   "source": [
    "# get the top reviewed beer style\n",
    "max_beer_style = beer_styles.number_of_distinct_reviewers.max()\n",
    "beer_single_style = beer_styles[beer_styles.number_of_distinct_reviewers == max_beer_style]\n",
    "beer_single_style"
   ]
  },
  {
   "cell_type": "code",
   "execution_count": 102,
   "metadata": {},
   "outputs": [
    {
     "name": "stdout",
     "output_type": "stream",
     "text": [
      "Shape:\t (117586, 31)\n"
     ]
    },
    {
     "data": {
      "text/html": [
       "<div>\n",
       "<style>\n",
       "    .dataframe thead tr:only-child th {\n",
       "        text-align: right;\n",
       "    }\n",
       "\n",
       "    .dataframe thead th {\n",
       "        text-align: left;\n",
       "    }\n",
       "\n",
       "    .dataframe tbody tr th {\n",
       "        vertical-align: top;\n",
       "    }\n",
       "</style>\n",
       "<table border=\"1\" class=\"dataframe\">\n",
       "  <thead>\n",
       "    <tr style=\"text-align: right;\">\n",
       "      <th></th>\n",
       "      <th>beer_style</th>\n",
       "      <th>number_of_distinct_reviewers</th>\n",
       "      <th>number_of_distinct_brewerys</th>\n",
       "      <th>number_of_distinct_beer</th>\n",
       "      <th>total_brewerys</th>\n",
       "      <th>pct_brewerys</th>\n",
       "      <th>mean_distinct_brewerys</th>\n",
       "      <th>sd_distinct_brewerys</th>\n",
       "      <th>Z_distinct_brewerys</th>\n",
       "      <th>total_reviewers</th>\n",
       "      <th>...</th>\n",
       "      <th>review_time</th>\n",
       "      <th>review_overall</th>\n",
       "      <th>review_aroma</th>\n",
       "      <th>review_appearance</th>\n",
       "      <th>review_profilename</th>\n",
       "      <th>review_palate</th>\n",
       "      <th>review_taste</th>\n",
       "      <th>beer_name</th>\n",
       "      <th>beer_abv</th>\n",
       "      <th>beer_beerid</th>\n",
       "    </tr>\n",
       "  </thead>\n",
       "  <tbody>\n",
       "    <tr>\n",
       "      <th>0</th>\n",
       "      <td>American IPA</td>\n",
       "      <td>12480</td>\n",
       "      <td>1606</td>\n",
       "      <td>3167</td>\n",
       "      <td>5742</td>\n",
       "      <td>0.279693</td>\n",
       "      <td>411.259615</td>\n",
       "      <td>346.078418</td>\n",
       "      <td>3.452224</td>\n",
       "      <td>33387</td>\n",
       "      <td>...</td>\n",
       "      <td>1272945129</td>\n",
       "      <td>4.0</td>\n",
       "      <td>4.0</td>\n",
       "      <td>4.0</td>\n",
       "      <td>Akfan</td>\n",
       "      <td>4.0</td>\n",
       "      <td>4.5</td>\n",
       "      <td>Caldera IPA</td>\n",
       "      <td>6.1</td>\n",
       "      <td>10784</td>\n",
       "    </tr>\n",
       "    <tr>\n",
       "      <th>1</th>\n",
       "      <td>American IPA</td>\n",
       "      <td>12480</td>\n",
       "      <td>1606</td>\n",
       "      <td>3167</td>\n",
       "      <td>5742</td>\n",
       "      <td>0.279693</td>\n",
       "      <td>411.259615</td>\n",
       "      <td>346.078418</td>\n",
       "      <td>3.452224</td>\n",
       "      <td>33387</td>\n",
       "      <td>...</td>\n",
       "      <td>1324238653</td>\n",
       "      <td>4.0</td>\n",
       "      <td>4.0</td>\n",
       "      <td>4.0</td>\n",
       "      <td>coldriver</td>\n",
       "      <td>4.0</td>\n",
       "      <td>4.5</td>\n",
       "      <td>Caldera IPA</td>\n",
       "      <td>6.1</td>\n",
       "      <td>10784</td>\n",
       "    </tr>\n",
       "    <tr>\n",
       "      <th>2</th>\n",
       "      <td>American IPA</td>\n",
       "      <td>12480</td>\n",
       "      <td>1606</td>\n",
       "      <td>3167</td>\n",
       "      <td>5742</td>\n",
       "      <td>0.279693</td>\n",
       "      <td>411.259615</td>\n",
       "      <td>346.078418</td>\n",
       "      <td>3.452224</td>\n",
       "      <td>33387</td>\n",
       "      <td>...</td>\n",
       "      <td>1296875377</td>\n",
       "      <td>4.0</td>\n",
       "      <td>4.0</td>\n",
       "      <td>4.0</td>\n",
       "      <td>Mora2000</td>\n",
       "      <td>4.0</td>\n",
       "      <td>4.0</td>\n",
       "      <td>Caldera IPA</td>\n",
       "      <td>6.1</td>\n",
       "      <td>10784</td>\n",
       "    </tr>\n",
       "    <tr>\n",
       "      <th>3</th>\n",
       "      <td>American IPA</td>\n",
       "      <td>12480</td>\n",
       "      <td>1606</td>\n",
       "      <td>3167</td>\n",
       "      <td>5742</td>\n",
       "      <td>0.279693</td>\n",
       "      <td>411.259615</td>\n",
       "      <td>346.078418</td>\n",
       "      <td>3.452224</td>\n",
       "      <td>33387</td>\n",
       "      <td>...</td>\n",
       "      <td>1297129212</td>\n",
       "      <td>4.0</td>\n",
       "      <td>4.0</td>\n",
       "      <td>4.0</td>\n",
       "      <td>Rutager</td>\n",
       "      <td>4.0</td>\n",
       "      <td>3.5</td>\n",
       "      <td>Caldera IPA</td>\n",
       "      <td>6.1</td>\n",
       "      <td>10784</td>\n",
       "    </tr>\n",
       "    <tr>\n",
       "      <th>4</th>\n",
       "      <td>American IPA</td>\n",
       "      <td>12480</td>\n",
       "      <td>1606</td>\n",
       "      <td>3167</td>\n",
       "      <td>5742</td>\n",
       "      <td>0.279693</td>\n",
       "      <td>411.259615</td>\n",
       "      <td>346.078418</td>\n",
       "      <td>3.452224</td>\n",
       "      <td>33387</td>\n",
       "      <td>...</td>\n",
       "      <td>1297105083</td>\n",
       "      <td>4.5</td>\n",
       "      <td>4.0</td>\n",
       "      <td>4.0</td>\n",
       "      <td>CHILLINDYLAN</td>\n",
       "      <td>4.0</td>\n",
       "      <td>4.0</td>\n",
       "      <td>Caldera IPA</td>\n",
       "      <td>6.1</td>\n",
       "      <td>10784</td>\n",
       "    </tr>\n",
       "  </tbody>\n",
       "</table>\n",
       "<p>5 rows × 31 columns</p>\n",
       "</div>"
      ],
      "text/plain": [
       "     beer_style  number_of_distinct_reviewers  number_of_distinct_brewerys  \\\n",
       "0  American IPA                         12480                         1606   \n",
       "1  American IPA                         12480                         1606   \n",
       "2  American IPA                         12480                         1606   \n",
       "3  American IPA                         12480                         1606   \n",
       "4  American IPA                         12480                         1606   \n",
       "\n",
       "   number_of_distinct_beer  total_brewerys  pct_brewerys  \\\n",
       "0                     3167            5742      0.279693   \n",
       "1                     3167            5742      0.279693   \n",
       "2                     3167            5742      0.279693   \n",
       "3                     3167            5742      0.279693   \n",
       "4                     3167            5742      0.279693   \n",
       "\n",
       "   mean_distinct_brewerys  sd_distinct_brewerys  Z_distinct_brewerys  \\\n",
       "0              411.259615            346.078418             3.452224   \n",
       "1              411.259615            346.078418             3.452224   \n",
       "2              411.259615            346.078418             3.452224   \n",
       "3              411.259615            346.078418             3.452224   \n",
       "4              411.259615            346.078418             3.452224   \n",
       "\n",
       "   total_reviewers     ...       review_time  review_overall  review_aroma  \\\n",
       "0            33387     ...        1272945129             4.0           4.0   \n",
       "1            33387     ...        1324238653             4.0           4.0   \n",
       "2            33387     ...        1296875377             4.0           4.0   \n",
       "3            33387     ...        1297129212             4.0           4.0   \n",
       "4            33387     ...        1297105083             4.5           4.0   \n",
       "\n",
       "   review_appearance  review_profilename  review_palate  review_taste  \\\n",
       "0                4.0               Akfan            4.0           4.5   \n",
       "1                4.0           coldriver            4.0           4.5   \n",
       "2                4.0            Mora2000            4.0           4.0   \n",
       "3                4.0             Rutager            4.0           3.5   \n",
       "4                4.0        CHILLINDYLAN            4.0           4.0   \n",
       "\n",
       "     beer_name  beer_abv  beer_beerid  \n",
       "0  Caldera IPA       6.1        10784  \n",
       "1  Caldera IPA       6.1        10784  \n",
       "2  Caldera IPA       6.1        10784  \n",
       "3  Caldera IPA       6.1        10784  \n",
       "4  Caldera IPA       6.1        10784  \n",
       "\n",
       "[5 rows x 31 columns]"
      ]
     },
     "execution_count": 102,
     "metadata": {},
     "output_type": "execute_result"
    }
   ],
   "source": [
    "# join up with all beer_reviews\n",
    "beers_for_model = pd.merge(beer_single_style, beer_reviews, how=\"inner\", on=['beer_style'])\n",
    "print('Shape:\\t',beers_for_model.shape)\n",
    "beers_for_model.head()"
   ]
  },
  {
   "cell_type": "code",
   "execution_count": 103,
   "metadata": {},
   "outputs": [],
   "source": [
    "# that's a lotta records... trim it down\n",
    "dfTrainIPA = trimDataRows(beers_for_model, 25000)\n",
    "dfTestIPA = trimDataRows(beers_for_model, 25000)"
   ]
  },
  {
   "cell_type": "code",
   "execution_count": 108,
   "metadata": {},
   "outputs": [
    {
     "name": "stdout",
     "output_type": "stream",
     "text": [
      "Test\n",
      "     review_overall  good_review  fair_review  poor_review\n",
      "0              4.0            1            0            0\n",
      "4              4.5            1            0            0\n",
      "12             5.0            1            0            0\n",
      "17             4.0            1            0            0\n",
      "18             3.5            0            1            0\n"
     ]
    }
   ],
   "source": [
    "#good_review (4.0+), poor_review (>3.0) and fair_review (x == 3.0 or x == 3.5)\n",
    "dfTestIPA['good_review'] = (dfTestIPA.review_overall >= 4.0).astype(int)\n",
    "dfTestIPA['poor_review'] = (dfTestIPA.review_overall < 3.0).astype(int)\n",
    "dfTestIPA['fair_review'] = (np.logical_and(dfTestIPA.review_overall >= 3.0, dfTestIPA.review_overall < 4.0).astype(int))\n",
    "print('Test\\n',dfTestIPA[['review_overall', 'good_review', 'fair_review', 'poor_review']].head(5))\n"
   ]
  },
  {
   "cell_type": "markdown",
   "metadata": {
    "collapsed": true
   },
   "source": [
    "## Logistict Regression (train-test-split)"
   ]
  },
  {
   "cell_type": "code",
   "execution_count": 107,
   "metadata": {},
   "outputs": [
    {
     "name": "stdout",
     "output_type": "stream",
     "text": [
      "Model accuracy (with train-test-split): 0.84692\n"
     ]
    }
   ],
   "source": [
    "# now for some logistic regression\n",
    "logreg = LogisticRegression(C=1e9)\n",
    "X = dfTrain[X_variable]\n",
    "y = dfTrain.good_review\n",
    "logreg.fit(dfTrainIPA[X_variable], dfTrainIPA.good_review)\n",
    "pred = logreg.predict(dfTestIPA[X_variable])\n",
    "# how many predictions were we right about?\n",
    "\n",
    "print(\"Model accuracy (with train-test-split):\",metrics.accuracy_score(dfTestIPA.good_review,pred))"
   ]
  },
  {
   "cell_type": "markdown",
   "metadata": {},
   "source": [
    "## DecisionTree Classifier (train-test-split)"
   ]
  },
  {
   "cell_type": "code",
   "execution_count": 109,
   "metadata": {},
   "outputs": [
    {
     "name": "stdout",
     "output_type": "stream",
     "text": [
      "Model accuracy (with train-test-split): 0.84232\n"
     ]
    }
   ],
   "source": [
    "dtc = DecisionTreeClassifier(max_depth = 3, random_state=0)\n",
    "dtc.fit(dfTrain[X_variable], dfTrain.good_review)\n",
    "pred = dtc.predict(dfTestIPA[X_variable])\n",
    "\n",
    "# how many predictions were we right about?\n",
    "print(\"Model accuracy (with train-test-split):\",metrics.accuracy_score(dfTestIPA.good_review,pred))"
   ]
  },
  {
   "cell_type": "markdown",
   "metadata": {},
   "source": [
    "## Final Assessment\n",
    "\n",
    "`Is there a steady relationship between appearance, aroma, taste across different beer styles - can an overall rating be predicted based on training data from a given beer style against a different distinct beer style.`\n",
    "\n",
    "Yes there certainly appears to be\n",
    "\n",
    "Using Linear Regression proved a bit fruitless in answering this as in no instances was there a high level of predictability.\n",
    "\n",
    "Using Logistic Regression however provided high levels of predictability against both sets of samples: (across random styles and then using random styles to predict a singular style)"
   ]
  }
 ],
 "metadata": {
  "kernelspec": {
   "display_name": "Python 2",
   "language": "python",
   "name": "python2"
  },
  "language_info": {
   "codemirror_mode": {
    "name": "ipython",
    "version": 2
   },
   "file_extension": ".py",
   "mimetype": "text/x-python",
   "name": "python",
   "nbconvert_exporter": "python",
   "pygments_lexer": "ipython2",
   "version": "2.7.14"
  }
 },
 "nbformat": 4,
 "nbformat_minor": 2
}
